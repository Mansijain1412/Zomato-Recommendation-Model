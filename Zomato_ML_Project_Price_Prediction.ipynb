{
 "cells": [
  {
   "cell_type": "code",
   "execution_count": 59,
   "id": "e9012025",
   "metadata": {},
   "outputs": [],
   "source": [
    "import pandas as pd\n",
    "import numpy as np\n",
    "import pickle\n",
    "from sklearn.linear_model import LogisticRegression\n",
    "from sklearn.model_selection import train_test_split\n",
    "import warnings\n",
    "from sklearn.preprocessing import LabelEncoder\n",
    "from sklearn import metrics\n",
    "\n",
    "df = pd.read_excel(\"C:/Users/Yash/Downloads/Final_Zomato_Data.xlsx\")"
   ]
  },
  {
   "cell_type": "code",
   "execution_count": 60,
   "id": "991f98de",
   "metadata": {},
   "outputs": [],
   "source": [
    "df = df[[\"Index\",\"Cuisine\",\"Location\",\"Price_For_One\"]]"
   ]
  },
  {
   "cell_type": "code",
   "execution_count": 64,
   "id": "d565741a",
   "metadata": {},
   "outputs": [
    {
     "data": {
      "text/html": [
       "<div>\n",
       "<style scoped>\n",
       "    .dataframe tbody tr th:only-of-type {\n",
       "        vertical-align: middle;\n",
       "    }\n",
       "\n",
       "    .dataframe tbody tr th {\n",
       "        vertical-align: top;\n",
       "    }\n",
       "\n",
       "    .dataframe thead th {\n",
       "        text-align: right;\n",
       "    }\n",
       "</style>\n",
       "<table border=\"1\" class=\"dataframe\">\n",
       "  <thead>\n",
       "    <tr style=\"text-align: right;\">\n",
       "      <th></th>\n",
       "      <th>Index</th>\n",
       "      <th>Cuisine</th>\n",
       "      <th>Location</th>\n",
       "      <th>Price_For_One</th>\n",
       "    </tr>\n",
       "  </thead>\n",
       "  <tbody>\n",
       "    <tr>\n",
       "      <th>726</th>\n",
       "      <td>727</td>\n",
       "      <td>Desserts</td>\n",
       "      <td>Kalyan Nagar</td>\n",
       "      <td>100</td>\n",
       "    </tr>\n",
       "    <tr>\n",
       "      <th>727</th>\n",
       "      <td>728</td>\n",
       "      <td>South Indian</td>\n",
       "      <td>Malleshwaram</td>\n",
       "      <td>100</td>\n",
       "    </tr>\n",
       "    <tr>\n",
       "      <th>728</th>\n",
       "      <td>729</td>\n",
       "      <td>Andhra</td>\n",
       "      <td>Ulsoor</td>\n",
       "      <td>100</td>\n",
       "    </tr>\n",
       "    <tr>\n",
       "      <th>729</th>\n",
       "      <td>730</td>\n",
       "      <td>North Indian</td>\n",
       "      <td>Jayanagar</td>\n",
       "      <td>100</td>\n",
       "    </tr>\n",
       "    <tr>\n",
       "      <th>0</th>\n",
       "      <td>0</td>\n",
       "      <td>Desserts</td>\n",
       "      <td>Residency Road</td>\n",
       "      <td>100</td>\n",
       "    </tr>\n",
       "  </tbody>\n",
       "</table>\n",
       "</div>"
      ],
      "text/plain": [
       "     Index       Cuisine        Location  Price_For_One\n",
       "726    727      Desserts    Kalyan Nagar            100\n",
       "727    728  South Indian    Malleshwaram            100\n",
       "728    729        Andhra          Ulsoor            100\n",
       "729    730  North Indian       Jayanagar            100\n",
       "0        0      Desserts  Residency Road            100"
      ]
     },
     "execution_count": 64,
     "metadata": {},
     "output_type": "execute_result"
    }
   ],
   "source": [
    "df.tail()"
   ]
  },
  {
   "cell_type": "code",
   "execution_count": 61,
   "id": "5c33f682",
   "metadata": {},
   "outputs": [],
   "source": [
    "Cuisine = \"Desserts\"\n",
    "Location = \"Residency Road\"\n",
    "Preferred_Price_For_1 = 100"
   ]
  },
  {
   "cell_type": "code",
   "execution_count": 62,
   "id": "7f48ecbd",
   "metadata": {},
   "outputs": [],
   "source": [
    "z = pd.DataFrame({\"Index\" : [0], \"Cuisine\" : Cuisine, \"Location\" : Location,\"Price_For_One\":Preferred_Price_For_1})"
   ]
  },
  {
   "cell_type": "code",
   "execution_count": 63,
   "id": "d7fa6717",
   "metadata": {},
   "outputs": [
    {
     "name": "stderr",
     "output_type": "stream",
     "text": [
      "C:\\Users\\Yash\\AppData\\Local\\Temp\\ipykernel_12656\\1234631719.py:1: FutureWarning: The frame.append method is deprecated and will be removed from pandas in a future version. Use pandas.concat instead.\n",
      "  df = df.append(z)\n"
     ]
    }
   ],
   "source": [
    "df = df.append(z)"
   ]
  },
  {
   "cell_type": "code",
   "execution_count": 65,
   "id": "0ea719f8",
   "metadata": {},
   "outputs": [],
   "source": [
    "x = df.drop(\"Price_For_One\",axis = 1)\n",
    "y = df[\"Price_For_One\"]"
   ]
  },
  {
   "cell_type": "code",
   "execution_count": 66,
   "id": "a5d1beae",
   "metadata": {},
   "outputs": [],
   "source": [
    "le = LabelEncoder()"
   ]
  },
  {
   "cell_type": "code",
   "execution_count": 67,
   "id": "536aabd7",
   "metadata": {},
   "outputs": [],
   "source": [
    "x[\"Location\"] = le.fit_transform(x[\"Location\"])\n",
    "x[\"Cuisine\"] = le.fit_transform(x[\"Cuisine\"])"
   ]
  },
  {
   "cell_type": "code",
   "execution_count": 68,
   "id": "afb2195f",
   "metadata": {},
   "outputs": [],
   "source": [
    "xtr,xts,ytr,yts = train_test_split(x,y,test_size = 0.3)"
   ]
  },
  {
   "cell_type": "code",
   "execution_count": 69,
   "id": "01013db5",
   "metadata": {},
   "outputs": [],
   "source": [
    "model = LogisticRegression()"
   ]
  },
  {
   "cell_type": "code",
   "execution_count": 70,
   "id": "e7157292",
   "metadata": {},
   "outputs": [
    {
     "name": "stderr",
     "output_type": "stream",
     "text": [
      "C:\\Users\\Yash\\anaconda3\\anavonda_a\\lib\\site-packages\\sklearn\\linear_model\\_logistic.py:814: ConvergenceWarning: lbfgs failed to converge (status=1):\n",
      "STOP: TOTAL NO. of ITERATIONS REACHED LIMIT.\n",
      "\n",
      "Increase the number of iterations (max_iter) or scale the data as shown in:\n",
      "    https://scikit-learn.org/stable/modules/preprocessing.html\n",
      "Please also refer to the documentation for alternative solver options:\n",
      "    https://scikit-learn.org/stable/modules/linear_model.html#logistic-regression\n",
      "  n_iter_i = _check_optimize_result(\n"
     ]
    }
   ],
   "source": [
    "model.fit(xtr,ytr)\n",
    "\n",
    "ypred = model.predict(xts)"
   ]
  },
  {
   "cell_type": "code",
   "execution_count": 73,
   "id": "b42ebecb",
   "metadata": {},
   "outputs": [
    {
     "name": "stdout",
     "output_type": "stream",
     "text": [
      "100\n"
     ]
    }
   ],
   "source": [
    "if ypred[-1] > Preferred_Price_For_1:  \n",
    "    print(ypred[-1] - (((ypred[-1] - Preferred_Price_For_1)/100)*70))\n",
    "elif ypred[-1] < Preferred_Price_For_1:\n",
    "    print(ypred[-1] + (((Preferred_Price_For_1 - ypred[-1])/100)*70))\n",
    "else:\n",
    "    print(ypred[-1])"
   ]
  },
  {
   "cell_type": "code",
   "execution_count": 47,
   "id": "69acb5b5",
   "metadata": {},
   "outputs": [
    {
     "data": {
      "text/plain": [
       "0.8424657534246575"
      ]
     },
     "execution_count": 47,
     "metadata": {},
     "output_type": "execute_result"
    }
   ],
   "source": [
    "metrics.accuracy_score(ypred,yts)"
   ]
  },
  {
   "cell_type": "code",
   "execution_count": 50,
   "id": "eb0cf037",
   "metadata": {},
   "outputs": [
    {
     "data": {
      "text/plain": [
       "array([100, 100, 100, 200, 350, 100, 100, 100, 100, 100, 100, 100, 100,\n",
       "       100, 100, 100, 100, 100, 200, 100, 100, 100, 100, 100, 100, 200,\n",
       "       200, 100, 100, 200, 200, 100, 100, 100, 100, 100, 100, 100, 200,\n",
       "       100, 100, 100, 100, 100, 100, 100, 100, 100, 100, 100, 100, 100,\n",
       "       100, 100, 100, 100, 100, 200, 100, 100, 100, 100, 100, 100, 100,\n",
       "       100, 100, 200, 200, 100, 100, 100, 100, 100, 100, 100, 100, 200,\n",
       "       350, 100, 100, 100, 100, 100, 100, 100, 100, 350, 200, 100, 200,\n",
       "       100, 100, 100, 100, 100, 200, 100, 200, 100, 200, 100, 100, 200,\n",
       "       100, 100, 100, 100, 100, 100, 100, 100, 100, 100, 100, 100, 100,\n",
       "       100, 100, 200, 100, 100, 100, 100, 100, 200, 100, 200, 100, 100,\n",
       "       100, 100, 200, 100, 200, 100, 100, 200, 100, 100, 350, 200, 200,\n",
       "       100, 200, 200, 350, 100, 100, 100, 100, 100, 200, 100, 200, 100,\n",
       "       100, 100, 100, 100, 100, 200, 100, 100, 100, 100, 100, 100, 100,\n",
       "       100, 200, 100, 200, 100, 100, 200, 100, 100, 100, 200, 100, 100,\n",
       "       200, 100, 200, 100, 100, 100, 200, 100, 100, 100, 100, 100, 100,\n",
       "       100, 100, 250, 100, 100, 100, 100, 100, 200, 200, 100, 100, 100,\n",
       "       100, 100, 100, 100, 100, 100, 100, 100, 100, 200, 200, 100],\n",
       "      dtype=int64)"
      ]
     },
     "execution_count": 50,
     "metadata": {},
     "output_type": "execute_result"
    }
   ],
   "source": [
    "ypred"
   ]
  },
  {
   "cell_type": "code",
   "execution_count": 50,
   "id": "bac850c1",
   "metadata": {},
   "outputs": [],
   "source": [
    "pickle.dump(model,open('model.pkl',\"wb\"))"
   ]
  },
  {
   "cell_type": "code",
   "execution_count": null,
   "id": "3026ff25",
   "metadata": {},
   "outputs": [],
   "source": []
  }
 ],
 "metadata": {
  "kernelspec": {
   "display_name": "Python 3 (ipykernel)",
   "language": "python",
   "name": "python3"
  },
  "language_info": {
   "codemirror_mode": {
    "name": "ipython",
    "version": 3
   },
   "file_extension": ".py",
   "mimetype": "text/x-python",
   "name": "python",
   "nbconvert_exporter": "python",
   "pygments_lexer": "ipython3",
   "version": "3.9.13"
  }
 },
 "nbformat": 4,
 "nbformat_minor": 5
}
